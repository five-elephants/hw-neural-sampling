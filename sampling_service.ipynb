{
 "metadata": {
  "name": "sampling_service"
 },
 "nbformat": 3,
 "nbformat_minor": 0,
 "worksheets": [
  {
   "cells": [
    {
     "cell_type": "code",
     "collapsed": false,
     "input": [
      "import sampling_service.client.sampling_client as sc"
     ],
     "language": "python",
     "metadata": {},
     "outputs": [],
     "prompt_number": 1
    },
    {
     "cell_type": "code",
     "collapsed": false,
     "input": [
      "reload(sc)\n",
      "client = sc.Sampling_client('http://localhost:8000')"
     ],
     "language": "python",
     "metadata": {},
     "outputs": [],
     "prompt_number": 10
    },
    {
     "cell_type": "code",
     "collapsed": false,
     "input": [
      "net_config = {\n",
      "    'num_samplers': 4,\n",
      "    'observers': range(16),\n",
      "    'biases': [-1.0, -0.5, -2.0, -1.5],\n",
      "    'weights': [[ 0.0,  1.5,  1.0, -1.0],\n",
      "                [ 1.5,  0.0,  1.0, -1.0],\n",
      "                [ 1.0,  1.0,  0.0,  0.5],\n",
      "                [-1.0, -1.0,  0.5,  0.0]],\n",
      "}\n",
      "\n",
      "run_config = {\n",
      "    'runtime': 10000,\n",
      "}\n",
      "\n",
      "result = client.run_experiment(net_config, run_config)\n",
      "print result"
     ],
     "language": "python",
     "metadata": {},
     "outputs": [
      {
       "output_type": "stream",
       "stream": "stdout",
       "text": [
        "{'observers': [0, 0, 0, 0, 0, 0, 0, 0, 0, 0, 0, 0, 0, 0, 0, 0]}\n"
       ]
      }
     ],
     "prompt_number": 11
    },
    {
     "cell_type": "code",
     "collapsed": false,
     "input": [],
     "language": "python",
     "metadata": {},
     "outputs": []
    }
   ],
   "metadata": {}
  }
 ]
}