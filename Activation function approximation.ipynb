{
 "metadata": {
  "name": "Activation function approximation"
 },
 "nbformat": 3,
 "nbformat_minor": 0,
 "worksheets": [
  {
   "cells": [
    {
     "cell_type": "code",
     "collapsed": false,
     "input": [
      "tau = 20.0\n",
      "sigma = lambda u: 1.0/(1.0 + exp(-u + log(tau)))\n",
      "#sigma = lambda x: 1.0/(1.0 + exp(x))\n",
      "inv_sigma = lambda s: -log(1./s - 1.0) + log(tau)\n",
      "#inv_sigma = lambda s: log(1./s - 1.0)\n",
      "log(tau)"
     ],
     "language": "python",
     "metadata": {},
     "outputs": [
      {
       "output_type": "pyout",
       "prompt_number": 127,
       "text": [
        "2.9957322735539909"
       ]
      }
     ],
     "prompt_number": 127
    },
    {
     "cell_type": "code",
     "collapsed": false,
     "input": [
      "def approximate(points=8, threshold=0.01):\n",
      "    a = inv_sigma(threshold)\n",
      "    b = inv_sigma(1. - threshold)\n",
      "    #print a, sigma(a), b, sigma(b)\n",
      "    x = linspace(a, b, points)\n",
      "    y = sigma(x)\n",
      "    return x, y\n",
      "\n",
      "\n",
      "def generate_lookup_table(index_bits=4, index_fraction=1):\n",
      "    x = array([ float(-2**(index_bits-1) + i)/2**index_fraction for i in xrange(2**index_bits) ])\n",
      "    #y = sigma(x + 2**-(index_fraction+1))\n",
      "    y = sigma(x)\n",
      "\n",
      "    def lookup(u):\n",
      "        index = int(u * 2**index_fraction + 2**(index_bits-1)) % 2**index_bits\n",
      "        if u > x[-1]:\n",
      "            return sigma(1000)\n",
      "        elif u < x[0]:\n",
      "            return sigma(-1000)\n",
      "        else:\n",
      "            return y[index]\n",
      "    \n",
      "    return x, y, lookup\n",
      "    \n",
      "\n",
      "def vhdl_lookup_table(aprx, apry, index_bits=4, index_fraction=1):\n",
      "    rv = \"(\\n\"\n",
      "    for x,y in zip(aprx, apry):\n",
      "        if x >= 0:\n",
      "            index = int(x * 2**index_fraction) % 2**(index_bits-1)\n",
      "        else:\n",
      "            index = int(2**index_bits - abs(x * 2**index_fraction))\n",
      "        rv += \"\\t%2d => make_ufixed(%f, %d, %d),\\n\" % (\n",
      "            index,\n",
      "            y,\n",
      "            index_bits-index_fraction,\n",
      "            index_fraction\n",
      "        )\n",
      "    rv += \");\\n\"\n",
      "    return rv"
     ],
     "language": "python",
     "metadata": {},
     "outputs": [],
     "prompt_number": 131
    },
    {
     "cell_type": "code",
     "collapsed": false,
     "input": [
      "2**4 - 1"
     ],
     "language": "python",
     "metadata": {},
     "outputs": [
      {
       "output_type": "pyout",
       "prompt_number": 120,
       "text": [
        "15"
       ]
      }
     ],
     "prompt_number": 120
    },
    {
     "cell_type": "code",
     "collapsed": false,
     "input": [
      "aprx, apry, lut = generate_lookup_table(index_bits=4, index_fraction=1)\n",
      "print vhdl_lookup_table(aprx, apry, index_bits=4, index_fraction=1)\n",
      "print lut(-1.0)\n",
      "print sigma(-1.0)\n",
      "print aprx[0], \" to \", aprx[-1]\n",
      "print aprx\n",
      "print apry"
     ],
     "language": "python",
     "metadata": {},
     "outputs": [
      {
       "output_type": "stream",
       "stream": "stdout",
       "text": [
        "(\n",
        "\t 8 => make_ufixed(0.000915, 3, 1),\n",
        "\t 9 => make_ufixed(0.001508, 3, 1),\n",
        "\t10 => make_ufixed(0.002483, 3, 1),\n",
        "\t11 => make_ufixed(0.004087, 3, 1),\n",
        "\t12 => make_ufixed(0.006721, 3, 1),\n",
        "\t13 => make_ufixed(0.011033, 3, 1),\n",
        "\t14 => make_ufixed(0.018062, 3, 1),\n",
        "\t15 => make_ufixed(0.029434, 3, 1),\n",
        "\t 0 => make_ufixed(0.047619, 3, 1),\n",
        "\t 1 => make_ufixed(0.076158, 3, 1),\n",
        "\t 2 => make_ufixed(0.119652, 3, 1),\n",
        "\t 3 => make_ufixed(0.183063, 3, 1),\n",
        "\t 4 => make_ufixed(0.269781, 3, 1),\n",
        "\t 5 => make_ufixed(0.378544, 3, 1),\n",
        "\t 6 => make_ufixed(0.501067, 3, 1),\n",
        "\t 7 => make_ufixed(0.623462, 3, 1),\n",
        ");\n",
        "\n",
        "0.0180617448289\n",
        "0.0180617448289\n",
        "-4.0  to  3.5\n",
        "[-4.  -3.5 -3.  -2.5 -2.  -1.5 -1.  -0.5  0.   0.5  1.   1.5  2.   2.5  3.\n",
        "  3.5]\n",
        "[ 0.00091494  0.00150759  0.00248317  0.00408747  0.00672128  0.01103341\n",
        "  0.01806174  0.0294339   0.04761905  0.07615791  0.11965173  0.1830629\n",
        "  0.26978133  0.37854412  0.50106693  0.62346174]\n"
       ]
      }
     ],
     "prompt_number": 132
    },
    {
     "cell_type": "code",
     "collapsed": false,
     "input": [
      "aprx, apry = approximate(points=8, threshold=0.01)"
     ],
     "language": "python",
     "metadata": {},
     "outputs": [],
     "prompt_number": 50
    },
    {
     "cell_type": "code",
     "collapsed": false,
     "input": [
      "fig = figure(figsize=(15,10))\n",
      "x = linspace(-10, 10, 100)\n",
      "y = sigma(x)\n",
      "\n",
      "plot(x, y)\n",
      "#plot(aprx, apry)\n",
      "plot(x, [lut(i) for i in x], '+')"
     ],
     "language": "python",
     "metadata": {},
     "outputs": [
      {
       "output_type": "stream",
       "stream": "stderr",
       "text": [
        "-c:2: RuntimeWarning: overflow encountered in exp\n"
       ]
      },
      {
       "output_type": "pyout",
       "prompt_number": 133,
       "text": [
        "[<matplotlib.lines.Line2D at 0x7fda77913a50>]"
       ]
      },
      {
       "output_type": "display_data",
       "png": "[encoded data removed]"
      }
     ],
     "prompt_number": 133
    },
    {
     "cell_type": "code",
     "collapsed": false,
     "input": [
      "fig = figure(figsize=(15,10))\n",
      "err = []\n",
      "points = range(2,17)\n",
      "for t in [ 0.0001, 0.001, 0.01, 0.1 ]:\n",
      "    err.append([])\n",
      "    for p in points:\n",
      "        aprx, apry = approximate(points=p, threshold=t)\n",
      "        \n",
      "        x = linspace(-10, 10, 10000)\n",
      "        y = sigma(x)\n",
      "        cmp_y = interp(x, aprx, apry, 0.0, 1.0)\n",
      "        fig = figure(figsize=(15,10))\n",
      "err = []\n",
      "points = range(2,17)\n",
      "for t in [ 0.0001, 0.001, 0.01, 0.1 ]:\n",
      "    err.append([])\n",
      "    for p in points:\n",
      "        aprx, apry = approximate(points=p, threshold=t)def approximate(points=8, threshold=0.01):\n",
      "    a = inv_sigma(threshold)\n",
      "    b = inv_sigma(1. - threshold)\n",
      "    #print a, sigma(a), b, sigma(b)\n",
      "    x = linspace(a, b, points)\n",
      "    y = sigma(x)\n",
      "    return x, y\n",
      "\n",
      "def approximate2(index_bits=4, membrane_repr=(16,8)):\n",
      "    pass\n",
      "        \n",
      "        x = linspace(-10, 10, 10000)\n",
      "        y = sigma(x)\n",
      "        cmp_y = interp(x, aprx, apry, 0.0, 1.0)\n",
      "        \n",
      "        err[-1].append(sqrt(sum((cmp_y - y) ** 2)))\n",
      "     \n",
      "    plot(points, err[-1], label='t=%1.4f' % (t))\n",
      "\n",
      "legend(loc='best')\n",
      "#print err\n",
      "        err[-1].append(sqrt(sum((cmp_y - y) ** 2)))\n",
      "     \n",
      "    plot(points, err[-1], label='t=%1.4f' % (t))\n",
      "\n",
      "legend(loc='best')\n",
      "#print err"
     ],
     "language": "python",
     "metadata": {},
     "outputs": [
      {
       "output_type": "pyout",
       "prompt_number": 54,
       "text": [
        "<matplotlib.legend.Legend at 0x7fda751cfe50>"
       ]
      },
      {
       "output_type": "display_data",
       "png": "[encoded data removed]"
      }
     ],
     "prompt_number": 54
    },
    {
     "cell_type": "code",
     "collapsed": false,
     "input": [],
     "language": "python",
     "metadata": {},
     "outputs": []
    }
   ],
   "metadata": {}
  }
 ]
}