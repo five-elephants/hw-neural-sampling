{
 "metadata": {
  "name": "Activation function approximation"
 },
 "nbformat": 3,
 "nbformat_minor": 0,
 "worksheets": [
  {
   "cells": [
    {
     "cell_type": "code",
     "collapsed": false,
     "input": [
      "tau = 20.0\n",
      "sigma = lambda u: 1.0/(1.0 + exp(-u + log(tau)))\n",
      "#sigma = lambda x: 1.0/(1.0 + exp(x))\n",
      "inv_sigma = lambda s: -log(1./s - 1.0) + log(tau)\n",
      "#inv_sigma = lambda s: log(1./s - 1.0)\n",
      "log(tau)"
     ],
     "language": "python",
     "metadata": {},
     "outputs": [
      {
       "output_type": "pyout",
       "prompt_number": 127,
       "text": [
        "2.9957322735539909"
       ]
      }
     ],
     "prompt_number": 127
    },
    {
     "cell_type": "code",
     "collapsed": false,
     "input": [
      "def approximate(points=8, threshold=0.01):\n",
      "    a = inv_sigma(threshold)\n",
      "    b = inv_sigma(1. - threshold)\n",
      "    #print a, sigma(a), b, sigma(b)\n",
      "    x = linspace(a, b, points)\n",
      "    y = sigma(x)\n",
      "    return x, y\n",
      "\n",
      "\n",
      "def generate_lookup_table(index_bits=4, index_fraction=1):\n",
      "    x = array([ float(-2**(index_bits-1) + i)/2**index_fraction for i in xrange(2**index_bits) ])\n",
      "    #y = sigma(x + 2**-(index_fraction+1))\n",
      "    y = sigma(x)\n",
      "\n",
      "    def lookup(u):\n",
      "        index = int(u * 2**index_fraction + 2**(index_bits-1)) % 2**index_bits\n",
      "        if u > x[-1]:\n",
      "            return sigma(10)\n",
      "        elif u < x[0]:\n",
      "            return sigma(-10)\n",
      "        else:\n",
      "            return y[index]\n",
      "    \n",
      "    return x, y, lookup\n",
      "    \n",
      "\n",
      "def vhdl_lookup_table(aprx, apry, index_bits=4, index_fraction=1):\n",
      "    rv = \"(\\n\"\n",
      "    for x,y in zip(aprx, apry):\n",
      "        if x >= 0:\n",
      "            index = int(x * 2**index_fraction) % 2**(index_bits-1)\n",
      "        else:\n",
      "            index = int(2**index_bits - abs(x * 2**index_fraction))\n",
      "        rv += \"\\t%2d => make_ufixed(%f, lfsr_use_width-lfsr_fraction, lfsr_fraction),\\n\" % (\n",
      "            index,\n",
      "            y\n",
      "        )\n",
      "    rv += \");\\n\"\n",
      "    return rv"
     ],
     "language": "python",
     "metadata": {},
     "outputs": [],
     "prompt_number": 136
    },
    {
     "cell_type": "code",
     "collapsed": false,
     "input": [
      "2**4 - 1"
     ],
     "language": "python",
     "metadata": {},
     "outputs": [
      {
       "output_type": "pyout",
       "prompt_number": 120,
       "text": [
        "15"
       ]
      }
     ],
     "prompt_number": 120
    },
    {
     "cell_type": "code",
     "collapsed": false,
     "input": [
      "aprx, apry, lut = generate_lookup_table(index_bits=5, index_fraction=2)\n",
      "print vhdl_lookup_table(aprx, apry, index_bits=5, index_fraction=2)\n",
      "print lut(-1.0)\n",
      "print sigma(-1.0)\n",
      "print aprx[0], \" to \", aprx[-1]\n",
      "print aprx\n",
      "print apry"
     ],
     "language": "python",
     "metadata": {},
     "outputs": [
      {
       "output_type": "stream",
       "stream": "stdout",
       "text": [
        "(\n",
        "\t16 => make_ufixed(0.000915, lfsr_use_width-lfsr_fraction, lfsr_fraction),\n",
        "\t17 => make_ufixed(0.001175, lfsr_use_width-lfsr_fraction, lfsr_fraction),\n",
        "\t18 => make_ufixed(0.001508, lfsr_use_width-lfsr_fraction, lfsr_fraction),\n",
        "\t19 => make_ufixed(0.001935, lfsr_use_width-lfsr_fraction, lfsr_fraction),\n",
        "\t20 => make_ufixed(0.002483, lfsr_use_width-lfsr_fraction, lfsr_fraction),\n",
        "\t21 => make_ufixed(0.003186, lfsr_use_width-lfsr_fraction, lfsr_fraction),\n",
        "\t22 => make_ufixed(0.004087, lfsr_use_width-lfsr_fraction, lfsr_fraction),\n",
        "\t23 => make_ufixed(0.005242, lfsr_use_width-lfsr_fraction, lfsr_fraction),\n",
        "\t24 => make_ufixed(0.006721, lfsr_use_width-lfsr_fraction, lfsr_fraction),\n",
        "\t25 => make_ufixed(0.008614, lfsr_use_width-lfsr_fraction, lfsr_fraction),\n",
        "\t26 => make_ufixed(0.011033, lfsr_use_width-lfsr_fraction, lfsr_fraction),\n",
        "\t27 => make_ufixed(0.014123, lfsr_use_width-lfsr_fraction, lfsr_fraction),\n",
        "\t28 => make_ufixed(0.018062, lfsr_use_width-lfsr_fraction, lfsr_fraction),\n",
        "\t29 => make_ufixed(0.023073, lfsr_use_width-lfsr_fraction, lfsr_fraction),\n",
        "\t30 => make_ufixed(0.029434, lfsr_use_width-lfsr_fraction, lfsr_fraction),\n",
        "\t31 => make_ufixed(0.037481, lfsr_use_width-lfsr_fraction, lfsr_fraction),\n",
        "\t 0 => make_ufixed(0.047619, lfsr_use_width-lfsr_fraction, lfsr_fraction),\n",
        "\t 1 => make_ufixed(0.060328, lfsr_use_width-lfsr_fraction, lfsr_fraction),\n",
        "\t 2 => make_ufixed(0.076158, lfsr_use_width-lfsr_fraction, lfsr_fraction),\n",
        "\t 3 => make_ufixed(0.095718, lfsr_use_width-lfsr_fraction, lfsr_fraction),\n",
        "\t 4 => make_ufixed(0.119652, lfsr_use_width-lfsr_fraction, lfsr_fraction),\n",
        "\t 5 => make_ufixed(0.148586, lfsr_use_width-lfsr_fraction, lfsr_fraction),\n",
        "\t 6 => make_ufixed(0.183063, lfsr_use_width-lfsr_fraction, lfsr_fraction),\n",
        "\t 7 => make_ufixed(0.223440, lfsr_use_width-lfsr_fraction, lfsr_fraction),\n",
        "\t 8 => make_ufixed(0.269781, lfsr_use_width-lfsr_fraction, lfsr_fraction),\n",
        "\t 9 => make_ufixed(0.321752, lfsr_use_width-lfsr_fraction, lfsr_fraction),\n",
        "\t10 => make_ufixed(0.378544, lfsr_use_width-lfsr_fraction, lfsr_fraction),\n",
        "\t11 => make_ufixed(0.438874, lfsr_use_width-lfsr_fraction, lfsr_fraction),\n",
        "\t12 => make_ufixed(0.501067, lfsr_use_width-lfsr_fraction, lfsr_fraction),\n",
        "\t13 => make_ufixed(0.563227, lfsr_use_width-lfsr_fraction, lfsr_fraction),\n",
        "\t14 => make_ufixed(0.623462, lfsr_use_width-lfsr_fraction, lfsr_fraction),\n",
        "\t15 => make_ufixed(0.680108, lfsr_use_width-lfsr_fraction, lfsr_fraction),\n",
        ");\n",
        "\n",
        "0.0180617448289\n",
        "0.0180617448289\n",
        "-4.0  to  3.75\n",
        "[-4.   -3.75 -3.5  -3.25 -3.   -2.75 -2.5  -2.25 -2.   -1.75 -1.5  -1.25\n",
        " -1.   -0.75 -0.5  -0.25  0.    0.25  0.5   0.75  1.    1.25  1.5   1.75\n",
        "  2.    2.25  2.5   2.75  3.    3.25  3.5   3.75]\n",
        "[ 0.00091494  0.00117451  0.00150759  0.00193496  0.00248317  0.00318621\n",
        "  0.00408747  0.00524233  0.00672128  0.00861385  0.01103341  0.01412293\n",
        "  0.01806174  0.02307337  0.0294339   0.03748055  0.04761905  0.06032813\n",
        "  0.07615791  0.09571823  0.11965173  0.14858629  0.1830629   0.22343978\n",
        "  0.26978133  0.32175193  0.37854412  0.43887421  0.50106693  0.56322665\n",
        "  0.62346174  0.6801079 ]\n"
       ]
      }
     ],
     "prompt_number": 142
    },
    {
     "cell_type": "code",
     "collapsed": false,
     "input": [
      "aprx, apry = approximate(points=8, threshold=0.01)"
     ],
     "language": "python",
     "metadata": {},
     "outputs": [],
     "prompt_number": 50
    },
    {
     "cell_type": "code",
     "collapsed": false,
     "input": [
      "fig = figure(figsize=(15,10))\n",
      "x = linspace(-10, 10, 100)\n",
      "y = sigma(x)\n",
      "\n",
      "plot(x, y)\n",
      "#plot(aprx, apry)\n",
      "plot(x, [lut(i) for i in x], '+')"
     ],
     "language": "python",
     "metadata": {},
     "outputs": [
      {
       "output_type": "pyout",
       "prompt_number": 143,
       "text": [
        "[<matplotlib.lines.Line2D at 0x7fda6466e210>]"
       ]
      },
      {
       "output_type": "display_data",
       "png": "[encoded data removed]"
      }
     ],
     "prompt_number": 143
    },
    {
     "cell_type": "code",
     "collapsed": false,
     "input": [
      "fig = figure(figsize=(15,10))\n",
      "err = []\n",
      "points = range(2,17)\n",
      "for t in [ 0.0001, 0.001, 0.01, 0.1 ]:\n",
      "    err.append([])\n",
      "    for p in points:\n",
      "        aprx, apry = approximate(points=p, threshold=t)\n",
      "        \n",
      "        x = linspace(-10, 10, 10000)\n",
      "        y = sigma(x)\n",
      "        cmp_y = interp(x, aprx, apry, 0.0, 1.0)\n",
      "        fig = figure(figsize=(15,10))\n",
      "err = []\n",
      "points = range(2,17)\n",
      "for t in [ 0.0001, 0.001, 0.01, 0.1 ]:\n",
      "    err.append([])\n",
      "    for p in points:\n",
      "        aprx, apry = approximate(points=p, threshold=t)def approximate(points=8, threshold=0.01):\n",
      "    a = inv_sigma(threshold)\n",
      "    b = inv_sigma(1. - threshold)\n",
      "    #print a, sigma(a), b, sigma(b)\n",
      "    x = linspace(a, b, points)\n",
      "    y = sigma(x)\n",
      "    return x, y\n",
      "\n",
      "def approximate2(index_bits=4, membrane_repr=(16,8)):\n",
      "    pass\n",
      "        \n",
      "        x = linspace(-10, 10, 10000)\n",
      "        y = sigma(x)\n",
      "        cmp_y = interp(x, aprx, apry, 0.0, 1.0)\n",
      "        \n",
      "        err[-1].append(sqrt(sum((cmp_y - y) ** 2)))\n",
      "     \n",
      "    plot(points, err[-1], label='t=%1.4f' % (t))\n",
      "\n",
      "legend(loc='best')\n",
      "#print err\n",
      "        err[-1].append(sqrt(sum((cmp_y - y) ** 2)))\n",
      "     \n",
      "    plot(points, err[-1], label='t=%1.4f' % (t))\n",
      "\n",
      "legend(loc='best')\n",
      "#print err"
     ],
     "language": "python",
     "metadata": {},
     "outputs": [
      {
       "output_type": "pyout",
       "prompt_number": 54,
       "text": [
        "<matplotlib.legend.Legend at 0x7fda751cfe50>"
       ]
      },
      {
       "output_type": "display_data",
       "png": "[encoded data removed]"
      }
     ],
     "prompt_number": 54
    },
    {
     "cell_type": "code",
     "collapsed": false,
     "input": [],
     "language": "python",
     "metadata": {},
     "outputs": []
    }
   ],
   "metadata": {}
  }
 ]
}